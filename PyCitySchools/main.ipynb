{
 "cells": [
  {
   "cell_type": "code",
   "execution_count": 1,
   "id": "bb667ea1",
   "metadata": {},
   "outputs": [],
   "source": [
    "# Import Pandas Library\n",
    "import pandas as pd\n",
    "\n",
    "# Create a path to the CSV files\n",
    "csv_path = \"Resources/schools_complete.csv\"\n",
    "csv_path2 = \"Resources/students_complete.csv\"\n",
    "\n",
    "# Read CSV files into a Data Frame\n",
    "schools = pd.read_csv(csv_path)\n",
    "students = pd.read_csv(csv_path2)\n",
    "\n",
    "# Combine data into single dataset\n",
    "school_student = pd.merge(students, schools, how=\"left\", on=[\"school_name\", \"school_name\"])"
   ]
  },
  {
   "cell_type": "code",
   "execution_count": 2,
   "id": "790fb007",
   "metadata": {},
   "outputs": [
    {
     "data": {
      "text/html": [
       "<div>\n",
       "<style scoped>\n",
       "    .dataframe tbody tr th:only-of-type {\n",
       "        vertical-align: middle;\n",
       "    }\n",
       "\n",
       "    .dataframe tbody tr th {\n",
       "        vertical-align: top;\n",
       "    }\n",
       "\n",
       "    .dataframe thead th {\n",
       "        text-align: right;\n",
       "    }\n",
       "</style>\n",
       "<table border=\"1\" class=\"dataframe\">\n",
       "  <thead>\n",
       "    <tr style=\"text-align: right;\">\n",
       "      <th></th>\n",
       "      <th>Total Schools</th>\n",
       "      <th>Total Students</th>\n",
       "      <th>Total Budget</th>\n",
       "      <th>Average Math Score</th>\n",
       "      <th>Average Reading Score</th>\n",
       "      <th>% Passing Math</th>\n",
       "      <th>% Passing Reading</th>\n",
       "      <th>% Overall Passing</th>\n",
       "    </tr>\n",
       "  </thead>\n",
       "  <tbody>\n",
       "    <tr>\n",
       "      <th>0</th>\n",
       "      <td>15</td>\n",
       "      <td>39170</td>\n",
       "      <td>24649428</td>\n",
       "      <td>78.99</td>\n",
       "      <td>81.88</td>\n",
       "      <td>74.98</td>\n",
       "      <td>85.81</td>\n",
       "      <td>65.17</td>\n",
       "    </tr>\n",
       "  </tbody>\n",
       "</table>\n",
       "</div>"
      ],
      "text/plain": [
       "   Total Schools  Total Students  Total Budget  Average Math Score  \\\n",
       "0             15           39170      24649428               78.99   \n",
       "\n",
       "   Average Reading Score  % Passing Math  % Passing Reading  % Overall Passing  \n",
       "0                  81.88           74.98              85.81              65.17  "
      ]
     },
     "execution_count": 2,
     "metadata": {},
     "output_type": "execute_result"
    }
   ],
   "source": [
    "# Data Frame operations to calculate the required District Summary\n",
    "# Calculate the total number of schools\n",
    "totalschools = len(school_student[\"school_name\"].unique())\n",
    "\n",
    "# Calculate the total number of students\n",
    "totalstudents = len(school_student)\n",
    "\n",
    "# Find the budget for each school and then add them together\n",
    "budgets = school_student[\"budget\"].unique()\n",
    "totalbudget = budgets.sum()\n",
    "\n",
    "# Calculate the average math score\n",
    "averagemath = round(school_student[\"math_score\"].mean(), 2)\n",
    "\n",
    "# Calulate the average reading score\n",
    "averagereading = round(school_student[\"reading_score\"].mean(), 2)\n",
    "\n",
    "# Calculate the percent of students passing math\n",
    "passingmath = school_student.loc[school_student[\"math_score\"] >= 70]\n",
    "percentmath = round((len(passingmath)/totalstudents) * 100, 2)\n",
    "\n",
    "# Calculate the percent of students passing reading\n",
    "passingreading = school_student.loc[school_student[\"reading_score\"] >= 70]\n",
    "percentreading = round((len(passingreading)/totalstudents) * 100, 2)\n",
    "\n",
    "# Calculate the percent of students passing both math and reading\n",
    "passingboth = school_student.loc[(school_student[\"math_score\"] >= 70) & (school_student[\"reading_score\"] >= 70)]\n",
    "percentboth = round((len(passingboth)/totalstudents) * 100, 2)\n",
    "\n",
    "#Creates a Data Frame to display the above results\n",
    "districtsummary = pd.DataFrame({\n",
    "    \"Total Schools\": [totalschools],\n",
    "    \"Total Students\": [totalstudents],\n",
    "    \"Total Budget\": [totalbudget],\n",
    "    \"Average Math Score\": [averagemath],\n",
    "    \"Average Reading Score\": [averagereading],\n",
    "    \"% Passing Math\": [percentmath],\n",
    "    \"% Passing Reading\": [percentreading],\n",
    "    \"% Overall Passing\": [percentboth]\n",
    "})\n",
    "districtsummary"
   ]
  },
  {
   "cell_type": "code",
   "execution_count": null,
   "id": "7abf3381",
   "metadata": {},
   "outputs": [],
   "source": []
  }
 ],
 "metadata": {
  "kernelspec": {
   "display_name": "Python [conda env:PythonData38] *",
   "language": "python",
   "name": "conda-env-PythonData38-py"
  },
  "language_info": {
   "codemirror_mode": {
    "name": "ipython",
    "version": 3
   },
   "file_extension": ".py",
   "mimetype": "text/x-python",
   "name": "python",
   "nbconvert_exporter": "python",
   "pygments_lexer": "ipython3",
   "version": "3.8.12"
  }
 },
 "nbformat": 4,
 "nbformat_minor": 5
}
